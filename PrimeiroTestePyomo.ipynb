{
 "cells": [
  {
   "cell_type": "code",
   "execution_count": 1,
   "id": "1dc8982d",
   "metadata": {},
   "outputs": [
    {
     "name": "stdout",
     "output_type": "stream",
     "text": [
      "Collecting package metadata (current_repodata.json): ...working... done\n",
      "Note: you may need to restart the kernel to use updated packages.\n",
      "\n",
      "Solving environment: ...working... done\n",
      "\n",
      "## Package Plan ##\n",
      "\n",
      "  environment location: C:\\Users\\User\\anaconda3\n",
      "\n",
      "  added / updated specs:\n",
      "    - pyomo\n",
      "\n",
      "\n",
      "The following packages will be downloaded:\n",
      "\n",
      "    package                    |            build\n",
      "    ---------------------------|-----------------\n",
      "    conda-4.10.1               |   py38haa244fe_0         3.1 MB  conda-forge\n",
      "    pyomo-6.0.1                |   py38h885f38d_0         4.5 MB  conda-forge\n",
      "    python_abi-3.8             |           1_cp38           4 KB  conda-forge\n",
      "    ------------------------------------------------------------\n",
      "                                           Total:         7.6 MB\n",
      "\n",
      "The following NEW packages will be INSTALLED:\n",
      "\n",
      "  pyomo              conda-forge/win-64::pyomo-6.0.1-py38h885f38d_0\n",
      "  python_abi         conda-forge/win-64::python_abi-3.8-1_cp38\n",
      "\n",
      "The following packages will be SUPERSEDED by a higher-priority channel:\n",
      "\n",
      "  conda              pkgs/main::conda-4.10.1-py38haa95532_1 --> conda-forge::conda-4.10.1-py38haa244fe_0\n",
      "\n",
      "\n",
      "\n",
      "Downloading and Extracting Packages\n",
      "\n",
      "conda-4.10.1         | 3.1 MB    |            |   0% \n",
      "conda-4.10.1         | 3.1 MB    |            |   1% \n",
      "conda-4.10.1         | 3.1 MB    | #3         |  13% \n",
      "conda-4.10.1         | 3.1 MB    | ##3        |  24% \n",
      "conda-4.10.1         | 3.1 MB    | ####2      |  43% \n",
      "conda-4.10.1         | 3.1 MB    | #######6   |  76% \n",
      "conda-4.10.1         | 3.1 MB    | ########## | 100% \n",
      "conda-4.10.1         | 3.1 MB    | ########## | 100% \n",
      "\n",
      "python_abi-3.8       | 4 KB      |            |   0% \n",
      "python_abi-3.8       | 4 KB      | ########## | 100% \n",
      "python_abi-3.8       | 4 KB      | ########## | 100% \n",
      "\n",
      "pyomo-6.0.1          | 4.5 MB    |            |   0% \n",
      "pyomo-6.0.1          | 4.5 MB    |            |   0% \n",
      "pyomo-6.0.1          | 4.5 MB    | #6         |  17% \n",
      "pyomo-6.0.1          | 4.5 MB    | ####       |  40% \n",
      "pyomo-6.0.1          | 4.5 MB    | #####6     |  56% \n",
      "pyomo-6.0.1          | 4.5 MB    | #######3   |  74% \n",
      "pyomo-6.0.1          | 4.5 MB    | ########7  |  88% \n",
      "pyomo-6.0.1          | 4.5 MB    | #########9 | 100% \n",
      "pyomo-6.0.1          | 4.5 MB    | ########## | 100% \n",
      "Preparing transaction: ...working... done\n",
      "Verifying transaction: ...working... done\n",
      "Executing transaction: ...working... done\n"
     ]
    }
   ],
   "source": [
    "conda install -c conda-forge pyomo"
   ]
  },
  {
   "cell_type": "code",
   "execution_count": 1,
   "id": "fc1f75ef",
   "metadata": {},
   "outputs": [
    {
     "name": "stdout",
     "output_type": "stream",
     "text": [
      "Collecting package metadata (current_repodata.json): ...working... done\n",
      "Solving environment: ...working... done\n",
      "\n",
      "## Package Plan ##\n",
      "\n",
      "  environment location: C:\\Users\\User\\anaconda3\n",
      "\n",
      "  added / updated specs:\n",
      "    - glpk\n",
      "\n",
      "\n",
      "The following packages will be downloaded:\n",
      "\n",
      "    package                    |            build\n",
      "    ---------------------------|-----------------\n",
      "    glpk-4.65                  |    h8ffe710_1004         3.5 MB  conda-forge\n",
      "    ------------------------------------------------------------\n",
      "                                           Total:         3.5 MB\n",
      "\n",
      "The following NEW packages will be INSTALLED:\n",
      "\n",
      "  glpk               conda-forge/win-64::glpk-4.65-h8ffe710_1004\n",
      "\n",
      "\n",
      "\n",
      "Downloading and Extracting Packages\n",
      "\n",
      "glpk-4.65            | 3.5 MB    |            |   0% \n",
      "glpk-4.65            | 3.5 MB    |            |   0% \n",
      "glpk-4.65            | 3.5 MB    | #          |  11% \n",
      "glpk-4.65            | 3.5 MB    | ##1        |  22% \n",
      "glpk-4.65            | 3.5 MB    | ###9       |  39% \n",
      "glpk-4.65            | 3.5 MB    | ####8      |  49% \n",
      "glpk-4.65            | 3.5 MB    | ######7    |  68% \n",
      "glpk-4.65            | 3.5 MB    | ########2  |  83% \n",
      "glpk-4.65            | 3.5 MB    | #########4 |  94% \n",
      "glpk-4.65            | 3.5 MB    | ########## | 100% \n",
      "Preparing transaction: ...working... done\n",
      "Verifying transaction: ...working... done\n",
      "Executing transaction: ...working... done\n",
      "\n",
      "Note: you may need to restart the kernel to use updated packages.\n"
     ]
    }
   ],
   "source": [
    "conda install -c conda-forge glpk"
   ]
  },
  {
   "cell_type": "code",
   "execution_count": 1,
   "id": "5f736493",
   "metadata": {},
   "outputs": [],
   "source": [
    "import pyomo.environ as pyEnv"
   ]
  },
  {
   "cell_type": "code",
   "execution_count": 2,
   "id": "91c2ec9c",
   "metadata": {},
   "outputs": [],
   "source": [
    "model = pyEnv.ConcreteModel()"
   ]
  },
  {
   "cell_type": "code",
   "execution_count": 3,
   "id": "89e31094",
   "metadata": {},
   "outputs": [],
   "source": [
    "model.M = pyEnv.RangeSet ( 1.5 , 10 , 3.5 )"
   ]
  },
  {
   "cell_type": "code",
   "execution_count": 4,
   "id": "0768f74f",
   "metadata": {},
   "outputs": [],
   "source": [
    "model.A = pyEnv.RangeSet(5)"
   ]
  },
  {
   "cell_type": "code",
   "execution_count": 5,
   "id": "0b5fa8ca",
   "metadata": {},
   "outputs": [],
   "source": [
    "model.B = pyEnv.RangeSet(3)"
   ]
  },
  {
   "cell_type": "code",
   "execution_count": 6,
   "id": "e6a05699",
   "metadata": {},
   "outputs": [],
   "source": [
    "model.P = pyEnv.Param(model.A, model.B)"
   ]
  },
  {
   "cell_type": "code",
   "execution_count": 9,
   "id": "f3a9bced",
   "metadata": {},
   "outputs": [
    {
     "name": "stdout",
     "output_type": "stream",
     "text": [
      "WARNING: Implicitly replacing the Component attribute A (type=<class\n",
      "    'pyomo.core.base.set.FiniteScalarRangeSet'>) on block unknown with a new\n",
      "    Component (type=<class 'pyomo.core.base.set.FiniteScalarRangeSet'>). This\n",
      "    is usually indicative of a modelling error. To avoid this warning, use\n",
      "    block.del_component() and block.add_component().\n"
     ]
    }
   ],
   "source": [
    "model.A = pyEnv.RangeSet(1,3)"
   ]
  },
  {
   "cell_type": "code",
   "execution_count": 10,
   "id": "c59dccc5",
   "metadata": {},
   "outputs": [],
   "source": [
    "def s_init (model , i , j ) :\n",
    "    if i == j :\n",
    "        return i * i\n",
    "    else :\n",
    "        return 0.0\n"
   ]
  },
  {
   "cell_type": "code",
   "execution_count": 11,
   "id": "2824dbbf",
   "metadata": {},
   "outputs": [],
   "source": [
    "model.S1 = pyEnv.Param(model.A, model.A, initialize=s_init )"
   ]
  },
  {
   "cell_type": "code",
   "execution_count": 13,
   "id": "4388fffb",
   "metadata": {},
   "outputs": [
    {
     "name": "stdout",
     "output_type": "stream",
     "text": [
      "S1 : Size=9, Index=S1_index, Domain=Any, Default=None, Mutable=False\n",
      "    Key    : Value\n",
      "    (1, 1) :     1\n",
      "    (1, 2) :   0.0\n",
      "    (1, 3) :   0.0\n",
      "    (2, 1) :   0.0\n",
      "    (2, 2) :     4\n",
      "    (2, 3) :   0.0\n",
      "    (3, 1) :   0.0\n",
      "    (3, 2) :   0.0\n",
      "    (3, 3) :     9\n"
     ]
    }
   ],
   "source": [
    "model.S1.display()"
   ]
  },
  {
   "cell_type": "code",
   "execution_count": null,
   "id": "e65134a8",
   "metadata": {},
   "outputs": [],
   "source": []
  }
 ],
 "metadata": {
  "kernelspec": {
   "display_name": "Python 3",
   "language": "python",
   "name": "python3"
  },
  "language_info": {
   "codemirror_mode": {
    "name": "ipython",
    "version": 3
   },
   "file_extension": ".py",
   "mimetype": "text/x-python",
   "name": "python",
   "nbconvert_exporter": "python",
   "pygments_lexer": "ipython3",
   "version": "3.8.8"
  }
 },
 "nbformat": 4,
 "nbformat_minor": 5
}
