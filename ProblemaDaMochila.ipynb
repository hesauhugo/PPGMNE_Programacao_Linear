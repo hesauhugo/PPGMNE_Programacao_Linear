{
 "cells": [
  {
   "cell_type": "code",
   "execution_count": 1,
   "id": "0ef016f5",
   "metadata": {},
   "outputs": [],
   "source": [
    "import pyomo.environ as pyEnv"
   ]
  },
  {
   "cell_type": "code",
   "execution_count": 2,
   "id": "83e96f0d",
   "metadata": {},
   "outputs": [],
   "source": [
    "lucros = [92,57,49,68,60,43,67,84,87,72]\n",
    "pesos = [23,31,29,44,53,38,63,85,89,82]\n",
    "capacidade = 165\n",
    "m = len(lucros)"
   ]
  },
  {
   "cell_type": "code",
   "execution_count": 7,
   "id": "18b4cb4f",
   "metadata": {},
   "outputs": [],
   "source": [
    "modelo = pyEnv.ConcreteModel()\n",
    "modelo.I = range(m)\n",
    "\n",
    "modelo.x_ = pyEnv.Var(modelo.I,within = pyEnv.NonNegativeReals)\n",
    "\n",
    "modelo.objetivo = pyEnv.Objective(expr = sum(lucros[i]*modelo.x[i] for i in modelo.I),sense = pyEnv.maximize)\n",
    "\n",
    "modelo.rest = pyEnv.Constraint(expr = sum(pesos[i]*modelo.x[i] for i in modelo.I)<= capacidade)\n"
   ]
  },
  {
   "cell_type": "code",
   "execution_count": 8,
   "id": "43461d43",
   "metadata": {},
   "outputs": [
    {
     "name": "stdout",
     "output_type": "stream",
     "text": [
      "GLPSOL: GLPK LP/MIP Solver, v4.65\n",
      "Parameter(s) specified in the command line:\n",
      " --write C:\\Users\\User\\AppData\\Local\\Temp\\tmp9ivdppu5.glpk.raw --wglp C:\\Users\\User\\AppData\\Local\\Temp\\tmpq59n5r_t.glpk.glp\n",
      " --cpxlp C:\\Users\\User\\AppData\\Local\\Temp\\tmpfmbzy809.pyomo.lp\n",
      "Reading problem data from 'C:\\Users\\User\\AppData\\Local\\Temp\\tmpfmbzy809.pyomo.lp'...\n",
      "C:\\Users\\User\\AppData\\Local\\Temp\\tmpfmbzy809.pyomo.lp:46: warning: lower bound of variable 'x1' redefined\n",
      "C:\\Users\\User\\AppData\\Local\\Temp\\tmpfmbzy809.pyomo.lp:46: warning: upper bound of variable 'x1' redefined\n",
      "2 rows, 11 columns, 11 non-zeros\n",
      "10 integer variables, all of which are binary\n",
      "56 lines were read\n",
      "Writing problem data to 'C:\\Users\\User\\AppData\\Local\\Temp\\tmpq59n5r_t.glpk.glp'...\n",
      "40 lines were written\n",
      "GLPK Integer Optimizer, v4.65\n",
      "2 rows, 11 columns, 11 non-zeros\n",
      "10 integer variables, all of which are binary\n",
      "Preprocessing...\n",
      "1 row, 10 columns, 10 non-zeros\n",
      "10 integer variables, all of which are binary\n",
      "Scaling...\n",
      " A: min|aij| =  2.300e+01  max|aij| =  8.900e+01  ratio =  3.870e+00\n",
      "GM: min|aij| =  1.000e+00  max|aij| =  1.000e+00  ratio =  1.000e+00\n",
      "EQ: min|aij| =  1.000e+00  max|aij| =  1.000e+00  ratio =  1.000e+00\n",
      "2N: min|aij| =  6.875e-01  max|aij| =  1.328e+00  ratio =  1.932e+00\n",
      "Constructing initial basis...\n",
      "Size of triangular part is 1\n",
      "Solving LP relaxation...\n",
      "GLPK Simplex Optimizer, v4.65\n",
      "1 row, 10 columns, 10 non-zeros\n",
      "*     0: obj =  -0.000000000e+00 inf =   0.000e+00 (10)\n",
      "*     8: obj =   3.090188679e+02 inf =   0.000e+00 (0)\n",
      "OPTIMAL LP SOLUTION FOUND\n",
      "Integer optimization begins...\n",
      "Long-step dual simplex will be used\n",
      "+     8: mip =     not found yet <=              +inf        (1; 0)\n",
      "+     9: >>>>>   3.090000000e+02 <=   3.090000000e+02   0.0% (2; 0)\n",
      "+     9: mip =   3.090000000e+02 <=     tree is empty   0.0% (0; 3)\n",
      "INTEGER OPTIMAL SOLUTION FOUND\n",
      "Time used:   0.0 secs\n",
      "Memory used: 0.1 Mb (63564 bytes)\n",
      "Writing MIP solution to 'C:\\Users\\User\\AppData\\Local\\Temp\\tmp9ivdppu5.glpk.raw'...\n",
      "22 lines were written\n"
     ]
    }
   ],
   "source": [
    "solver = pyEnv.SolverFactory('glpk')\n",
    "resultado_objetivo = solver.solve(modelo,tee = True)"
   ]
  },
  {
   "cell_type": "code",
   "execution_count": 9,
   "id": "e537b5dc",
   "metadata": {},
   "outputs": [
    {
     "name": "stdout",
     "output_type": "stream",
     "text": [
      "\n",
      "Problem: \n",
      "- Name: unknown\n",
      "  Lower bound: 309.0\n",
      "  Upper bound: 309.0\n",
      "  Number of objectives: 1\n",
      "  Number of constraints: 2\n",
      "  Number of variables: 11\n",
      "  Number of nonzeros: 11\n",
      "  Sense: maximize\n",
      "Solver: \n",
      "- Status: ok\n",
      "  Termination condition: optimal\n",
      "  Statistics: \n",
      "    Branch and bound: \n",
      "      Number of bounded subproblems: 3\n",
      "      Number of created subproblems: 3\n",
      "  Error rc: 0\n",
      "  Time: 0.04726219177246094\n",
      "Solution: \n",
      "- number of solutions: 0\n",
      "  number of solutions displayed: 0\n",
      "\n"
     ]
    }
   ],
   "source": [
    "print(resultado_objetivo)"
   ]
  },
  {
   "cell_type": "code",
   "execution_count": 10,
   "id": "91a3f46d",
   "metadata": {},
   "outputs": [
    {
     "name": "stdout",
     "output_type": "stream",
     "text": [
      "0 -- 1.0\n",
      "1 -- 1.0\n",
      "2 -- 1.0\n",
      "3 -- 1.0\n",
      "4 -- 0.0\n",
      "5 -- 1.0\n",
      "6 -- 0.0\n",
      "7 -- 0.0\n",
      "8 -- 0.0\n",
      "9 -- 0.0\n",
      "Valor objetivo =  309.0\n"
     ]
    }
   ],
   "source": [
    "lista = list(modelo.x.keys())\n",
    "for i in lista:\n",
    "    print(i,'--', modelo.x[i]())\n",
    "    \n",
    "print(\"Valor objetivo = \",modelo.objetivo())"
   ]
  },
  {
   "cell_type": "code",
   "execution_count": null,
   "id": "4a1a4a67",
   "metadata": {},
   "outputs": [],
   "source": []
  }
 ],
 "metadata": {
  "kernelspec": {
   "display_name": "Python 3",
   "language": "python",
   "name": "python3"
  },
  "language_info": {
   "codemirror_mode": {
    "name": "ipython",
    "version": 3
   },
   "file_extension": ".py",
   "mimetype": "text/x-python",
   "name": "python",
   "nbconvert_exporter": "python",
   "pygments_lexer": "ipython3",
   "version": "3.8.8"
  }
 },
 "nbformat": 4,
 "nbformat_minor": 5
}
