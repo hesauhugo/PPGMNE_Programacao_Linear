{
 "cells": [
  {
   "cell_type": "code",
   "execution_count": 1,
   "id": "87914eed",
   "metadata": {},
   "outputs": [],
   "source": [
    "import pyomo.environ as pyEnv"
   ]
  },
  {
   "cell_type": "code",
   "execution_count": 2,
   "id": "d8bf6557",
   "metadata": {},
   "outputs": [],
   "source": [
    "#parâmetros\n",
    "cj = [12,60]\n",
    "aij = [[0.25,0.5]\n",
    "      ,[0.1,0.75]\n",
    "       ,[0.1,0.4]]\n",
    "bi = [36,22,15]\n",
    "m = len(bi)\n",
    "n = len(cj)\n"
   ]
  },
  {
   "cell_type": "code",
   "execution_count": 3,
   "id": "1fa4d6d5",
   "metadata": {},
   "outputs": [],
   "source": [
    "#declaração do modelo\n",
    "modelo = pyEnv.ConcreteModel()\n",
    "\n",
    "#indice\n",
    "modelo.I = range(m)\n",
    "modelo.J = range(n)"
   ]
  },
  {
   "cell_type": "code",
   "execution_count": 4,
   "id": "f3fe1ba8",
   "metadata": {},
   "outputs": [],
   "source": [
    "#variaveis de decisao\n",
    "modelo.x = pyEnv.Var(modelo.J,within = pyEnv.NonNegativeReals)"
   ]
  },
  {
   "cell_type": "code",
   "execution_count": 5,
   "id": "6290cd4c",
   "metadata": {},
   "outputs": [],
   "source": [
    "#parametros\n",
    "modelo.c = pyEnv.Param(modelo.J,initialize = lambda modelo,j:cj[j-1])\n",
    "modelo.aij = pyEnv.Param(modelo.I,modelo.J,initialize = lambda modelo,i,j:aij[i][j])"
   ]
  },
  {
   "cell_type": "code",
   "execution_count": 6,
   "id": "dc4c84b2",
   "metadata": {},
   "outputs": [],
   "source": [
    "#funcão objetivo\n",
    "modelo.objetivo = pyEnv.Objective(expr = sum(modelo.x[j]*cj[j] for j in modelo.J),sense = pyEnv.maximize) "
   ]
  },
  {
   "cell_type": "code",
   "execution_count": 7,
   "id": "054b8cad",
   "metadata": {},
   "outputs": [],
   "source": [
    "#restrições\n",
    "def rule_rest1(modelo,i):\n",
    "    return sum(modelo.aij[i,j] * modelo.x[j] for j in modelo.J) <= bi[i]\n",
    "\n",
    "modelo.rest1 = pyEnv.Constraint(modelo.I,rule = rule_rest1 )\n"
   ]
  },
  {
   "cell_type": "code",
   "execution_count": 8,
   "id": "73c5ffc3",
   "metadata": {},
   "outputs": [
    {
     "name": "stdout",
     "output_type": "stream",
     "text": [
      "GLPSOL: GLPK LP/MIP Solver, v4.65\n",
      "Parameter(s) specified in the command line:\n",
      " --write C:\\Users\\User\\AppData\\Local\\Temp\\tmpnc3np_p3.glpk.raw --wglp C:\\Users\\User\\AppData\\Local\\Temp\\tmp62cigir7.glpk.glp\n",
      " --cpxlp C:\\Users\\User\\AppData\\Local\\Temp\\tmprmzesfru.pyomo.lp\n",
      "Reading problem data from 'C:\\Users\\User\\AppData\\Local\\Temp\\tmprmzesfru.pyomo.lp'...\n",
      "4 rows, 3 columns, 7 non-zeros\n",
      "31 lines were read\n",
      "Writing problem data to 'C:\\Users\\User\\AppData\\Local\\Temp\\tmp62cigir7.glpk.glp'...\n",
      "23 lines were written\n",
      "GLPK Simplex Optimizer, v4.65\n",
      "4 rows, 3 columns, 7 non-zeros\n",
      "Preprocessing...\n",
      "3 rows, 2 columns, 6 non-zeros\n",
      "Scaling...\n",
      " A: min|aij| =  1.000e-01  max|aij| =  7.500e-01  ratio =  7.500e+00\n",
      "Problem data seem to be well scaled\n",
      "Constructing initial basis...\n",
      "Size of triangular part is 3\n",
      "*     0: obj =  -0.000000000e+00 inf =   0.000e+00 (2)\n",
      "*     2: obj =   2.040000000e+03 inf =   0.000e+00 (0)\n",
      "OPTIMAL LP SOLUTION FOUND\n",
      "Time used:   0.0 secs\n",
      "Memory used: 0.0 Mb (40424 bytes)\n",
      "Writing basic solution to 'C:\\Users\\User\\AppData\\Local\\Temp\\tmpnc3np_p3.glpk.raw'...\n",
      "16 lines were written\n"
     ]
    }
   ],
   "source": [
    "solver = pyEnv.SolverFactory('glpk')\n",
    "resultado_objetivo = solver.solve(modelo,tee = True)"
   ]
  },
  {
   "cell_type": "code",
   "execution_count": 9,
   "id": "e81960d1",
   "metadata": {},
   "outputs": [
    {
     "name": "stdout",
     "output_type": "stream",
     "text": [
      "\n",
      "Problem: \n",
      "- Name: unknown\n",
      "  Lower bound: 2040.0\n",
      "  Upper bound: 2040.0\n",
      "  Number of objectives: 1\n",
      "  Number of constraints: 4\n",
      "  Number of variables: 3\n",
      "  Number of nonzeros: 7\n",
      "  Sense: maximize\n",
      "Solver: \n",
      "- Status: ok\n",
      "  Termination condition: optimal\n",
      "  Statistics: \n",
      "    Branch and bound: \n",
      "      Number of bounded subproblems: 0\n",
      "      Number of created subproblems: 0\n",
      "  Error rc: 0\n",
      "  Time: 0.04638409614562988\n",
      "Solution: \n",
      "- number of solutions: 0\n",
      "  number of solutions displayed: 0\n",
      "\n"
     ]
    }
   ],
   "source": [
    "print(resultado_objetivo)"
   ]
  },
  {
   "cell_type": "code",
   "execution_count": 10,
   "id": "da57c8f3",
   "metadata": {},
   "outputs": [
    {
     "name": "stdout",
     "output_type": "stream",
     "text": [
      "0 -- 70.0\n",
      "1 -- 20.0\n",
      "Valor objetivo =  2040.0\n"
     ]
    }
   ],
   "source": [
    "lista = list(modelo.x.keys())\n",
    "for i in lista:\n",
    "    print(i,'--', modelo.x[i]())\n",
    "    \n",
    "print(\"Valor objetivo = \",modelo.objetivo())"
   ]
  },
  {
   "cell_type": "code",
   "execution_count": null,
   "id": "b5eaa0ed",
   "metadata": {},
   "outputs": [],
   "source": []
  }
 ],
 "metadata": {
  "kernelspec": {
   "display_name": "Python 3",
   "language": "python",
   "name": "python3"
  },
  "language_info": {
   "codemirror_mode": {
    "name": "ipython",
    "version": 3
   },
   "file_extension": ".py",
   "mimetype": "text/x-python",
   "name": "python",
   "nbconvert_exporter": "python",
   "pygments_lexer": "ipython3",
   "version": "3.8.8"
  }
 },
 "nbformat": 4,
 "nbformat_minor": 5
}
